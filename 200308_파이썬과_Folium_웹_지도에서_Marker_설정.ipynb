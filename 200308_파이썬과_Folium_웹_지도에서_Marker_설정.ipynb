{
 "cells": [
  {
   "cell_type": "code",
   "execution_count": 1,
   "metadata": {},
   "outputs": [],
   "source": [
    "# 모듈 추가\n",
    "import requests\n",
    "from urllib.parse import urlparse\n",
    "import folium\n",
    "import pandas as pd"
   ]
  },
  {
   "cell_type": "code",
   "execution_count": 2,
   "metadata": {},
   "outputs": [],
   "source": [
    "# 지오코딩(Geocoding) 함수 정의: 카카오맵 API로 키워드를 위경도로 변환\n",
    "def keyword_to_latlon(keyword):\n",
    "    url = \"https://dapi.kakao.com/v2/local/search/keyword.json?&query=\" + keyword\n",
    "    result = requests.get(urlparse(url).geturl(),\n",
    "                          headers={\"Authorization\":\"KakaoAK 4d25f7ae6c4cab6bc96c746280e403af\"})\n",
    "    json_obj = result.json()\n",
    "    list = []\n",
    "    for document in json_obj['documents']:\n",
    "        list.append([document['place_name'], document['address_name'], document['y'], document['x']])\n",
    "    return pd.DataFrame(list, columns = ['place_name', 'address_name', 'lat', 'lon'])"
   ]
  },
  {
   "cell_type": "code",
   "execution_count": 3,
   "metadata": {},
   "outputs": [
    {
     "data": {
      "text/html": [
       "<div>\n",
       "<style scoped>\n",
       "    .dataframe tbody tr th:only-of-type {\n",
       "        vertical-align: middle;\n",
       "    }\n",
       "\n",
       "    .dataframe tbody tr th {\n",
       "        vertical-align: top;\n",
       "    }\n",
       "\n",
       "    .dataframe thead th {\n",
       "        text-align: right;\n",
       "    }\n",
       "</style>\n",
       "<table border=\"1\" class=\"dataframe\">\n",
       "  <thead>\n",
       "    <tr style=\"text-align: right;\">\n",
       "      <th></th>\n",
       "      <th>place_name</th>\n",
       "      <th>address_name</th>\n",
       "      <th>lat</th>\n",
       "      <th>lon</th>\n",
       "    </tr>\n",
       "  </thead>\n",
       "  <tbody>\n",
       "    <tr>\n",
       "      <td>0</td>\n",
       "      <td>국립공원연구원 본원</td>\n",
       "      <td>강원 원주시 명륜동 242-2</td>\n",
       "      <td>37.337061376149</td>\n",
       "      <td>127.947727443701</td>\n",
       "    </tr>\n",
       "    <tr>\n",
       "      <td>1</td>\n",
       "      <td>원주시 국립공원연구원 전기차충전소</td>\n",
       "      <td>강원 원주시 명륜동 242-2</td>\n",
       "      <td>37.3369855553017</td>\n",
       "      <td>127.947744545488</td>\n",
       "    </tr>\n",
       "    <tr>\n",
       "      <td>2</td>\n",
       "      <td>국립공원연구원 유류오염연구센터</td>\n",
       "      <td>충남 태안군 원북면 방갈리 515-87</td>\n",
       "      <td>36.8962001693522</td>\n",
       "      <td>126.206016386242</td>\n",
       "    </tr>\n",
       "    <tr>\n",
       "      <td>3</td>\n",
       "      <td>국립공원연구원 해양연구센터</td>\n",
       "      <td>전남 여수시 덕충동 2005</td>\n",
       "      <td>34.751957973452</td>\n",
       "      <td>127.746282623104</td>\n",
       "    </tr>\n",
       "    <tr>\n",
       "      <td>4</td>\n",
       "      <td>국립공원연구원 철새연구센터 한려해상출장소</td>\n",
       "      <td>경남 거제시 동부면 학동리 252</td>\n",
       "      <td>34.7767480450369</td>\n",
       "      <td>128.641252781366</td>\n",
       "    </tr>\n",
       "    <tr>\n",
       "      <td>5</td>\n",
       "      <td>국립공원관리공단 국립공원연구원</td>\n",
       "      <td>전남 여수시 돌산읍 우두리 1049</td>\n",
       "      <td>34.7185217961981</td>\n",
       "      <td>127.748894663568</td>\n",
       "    </tr>\n",
       "    <tr>\n",
       "      <td>6</td>\n",
       "      <td>국립공원연구원 철새연구센터</td>\n",
       "      <td>전남 신안군 흑산면 진리 490-3</td>\n",
       "      <td>34.6855552428131</td>\n",
       "      <td>125.426248037278</td>\n",
       "    </tr>\n",
       "  </tbody>\n",
       "</table>\n",
       "</div>"
      ],
      "text/plain": [
       "               place_name           address_name               lat  \\\n",
       "0              국립공원연구원 본원       강원 원주시 명륜동 242-2   37.337061376149   \n",
       "1      원주시 국립공원연구원 전기차충전소       강원 원주시 명륜동 242-2  37.3369855553017   \n",
       "2        국립공원연구원 유류오염연구센터  충남 태안군 원북면 방갈리 515-87  36.8962001693522   \n",
       "3          국립공원연구원 해양연구센터        전남 여수시 덕충동 2005   34.751957973452   \n",
       "4  국립공원연구원 철새연구센터 한려해상출장소     경남 거제시 동부면 학동리 252  34.7767480450369   \n",
       "5        국립공원관리공단 국립공원연구원    전남 여수시 돌산읍 우두리 1049  34.7185217961981   \n",
       "6          국립공원연구원 철새연구센터    전남 신안군 흑산면 진리 490-3  34.6855552428131   \n",
       "\n",
       "                lon  \n",
       "0  127.947727443701  \n",
       "1  127.947744545488  \n",
       "2  126.206016386242  \n",
       "3  127.746282623104  \n",
       "4  128.641252781366  \n",
       "5  127.748894663568  \n",
       "6  125.426248037278  "
      ]
     },
     "execution_count": 3,
     "metadata": {},
     "output_type": "execute_result"
    }
   ],
   "source": [
    "# 국립공원연구원 위경도 검색\n",
    "df = keyword_to_latlon('국립공원연구원')\n",
    "df"
   ]
  },
  {
   "cell_type": "code",
   "execution_count": 4,
   "metadata": {},
   "outputs": [
    {
     "data": {
      "text/html": [
       "<div>\n",
       "<style scoped>\n",
       "    .dataframe tbody tr th:only-of-type {\n",
       "        vertical-align: middle;\n",
       "    }\n",
       "\n",
       "    .dataframe tbody tr th {\n",
       "        vertical-align: top;\n",
       "    }\n",
       "\n",
       "    .dataframe thead th {\n",
       "        text-align: right;\n",
       "    }\n",
       "</style>\n",
       "<table border=\"1\" class=\"dataframe\">\n",
       "  <thead>\n",
       "    <tr style=\"text-align: right;\">\n",
       "      <th></th>\n",
       "      <th>place_name</th>\n",
       "      <th>address_name</th>\n",
       "      <th>lat</th>\n",
       "      <th>lon</th>\n",
       "    </tr>\n",
       "  </thead>\n",
       "  <tbody>\n",
       "    <tr>\n",
       "      <td>0</td>\n",
       "      <td>국립공원연구원 본원</td>\n",
       "      <td>강원 원주시 명륜동 242-2</td>\n",
       "      <td>37.337061376149</td>\n",
       "      <td>127.947727443701</td>\n",
       "    </tr>\n",
       "  </tbody>\n",
       "</table>\n",
       "</div>"
      ],
      "text/plain": [
       "   place_name      address_name              lat               lon\n",
       "0  국립공원연구원 본원  강원 원주시 명륜동 242-2  37.337061376149  127.947727443701"
      ]
     },
     "execution_count": 4,
     "metadata": {},
     "output_type": "execute_result"
    }
   ],
   "source": [
    "# 국립공원연구원 본원 선택\n",
    "df1 = df.loc[df['place_name'] == '국립공원연구원 본원']\n",
    "df1"
   ]
  },
  {
   "cell_type": "code",
   "execution_count": 5,
   "metadata": {},
   "outputs": [
    {
     "data": {
      "text/html": [
       "<div style=\"width:100%;\"><div style=\"position:relative;width:100%;height:0;padding-bottom:60%;\"><iframe src=\"data:text/html;charset=utf-8;base64,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\" style=\"position:absolute;width:100%;height:100%;left:0;top:0;border:none !important;\" allowfullscreen webkitallowfullscreen mozallowfullscreen></iframe></div></div>"
      ],
      "text/plain": [
       "<folium.folium.Map at 0x22bdf74aa58>"
      ]
     },
     "execution_count": 5,
     "metadata": {},
     "output_type": "execute_result"
    }
   ],
   "source": [
    "# 폴리움\n",
    "m = folium.Map(location=[df1.lat, df1.lon], tiles='Stamen Terrain', zoom_start=11)\n",
    "m"
   ]
  },
  {
   "cell_type": "code",
   "execution_count": 6,
   "metadata": {},
   "outputs": [
    {
     "data": {
      "text/html": [
       "<div style=\"width:100%;\"><div style=\"position:relative;width:100%;height:0;padding-bottom:60%;\"><iframe src=\"data:text/html;charset=utf-8;base64,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\" style=\"position:absolute;width:100%;height:100%;left:0;top:0;border:none !important;\" allowfullscreen webkitallowfullscreen mozallowfullscreen></iframe></div></div>"
      ],
      "text/plain": [
       "<folium.folium.Map at 0x22bdf74aa58>"
      ]
     },
     "execution_count": 6,
     "metadata": {},
     "output_type": "execute_result"
    }
   ],
   "source": [
    "# 마커 추가\n",
    "folium.Marker(location=[df1.lat, df1.lon]).add_to(m)\n",
    "m"
   ]
  },
  {
   "cell_type": "code",
   "execution_count": 7,
   "metadata": {},
   "outputs": [
    {
     "data": {
      "text/html": [
       "<div style=\"width:100%;\"><div style=\"position:relative;width:100%;height:0;padding-bottom:60%;\"><iframe src=\"data:text/html;charset=utf-8;base64,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\" style=\"position:absolute;width:100%;height:100%;left:0;top:0;border:none !important;\" allowfullscreen webkitallowfullscreen mozallowfullscreen></iframe></div></div>"
      ],
      "text/plain": [
       "<folium.folium.Map at 0x22bdf74aa58>"
      ]
     },
     "execution_count": 7,
     "metadata": {},
     "output_type": "execute_result"
    }
   ],
   "source": [
    "# 마커 팝업, 툴팁 설정 추가\n",
    "folium.Marker(location=[df1.lat, df1.lon], popup=df1.iloc[0]['place_name'], tooltip=\"이곳이 궁금한가요?\").add_to(m)\n",
    "m"
   ]
  },
  {
   "cell_type": "code",
   "execution_count": 8,
   "metadata": {},
   "outputs": [
    {
     "data": {
      "text/html": [
       "<div style=\"width:100%;\"><div style=\"position:relative;width:100%;height:0;padding-bottom:60%;\"><iframe src=\"data:text/html;charset=utf-8;base64,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\" style=\"position:absolute;width:100%;height:100%;left:0;top:0;border:none !important;\" allowfullscreen webkitallowfullscreen mozallowfullscreen></iframe></div></div>"
      ],
      "text/plain": [
       "<folium.folium.Map at 0x22bdf74aa58>"
      ]
     },
     "execution_count": 8,
     "metadata": {},
     "output_type": "execute_result"
    }
   ],
   "source": [
    "# 마커 팝업 설정(HTML, max_width) 추가\n",
    "popup = folium.Popup(\"<b>\"+df1.iloc[0]['place_name']+\"</b><br>\"+df1.iloc[0]['address_name'], max_width=300)\n",
    "folium.Marker(location=[df1.lat, df1.lon], popup=popup, tooltip=\"이곳이 궁금한가요?\").add_to(m)\n",
    "m"
   ]
  },
  {
   "cell_type": "code",
   "execution_count": 9,
   "metadata": {},
   "outputs": [
    {
     "data": {
      "text/html": [
       "<div>\n",
       "<style scoped>\n",
       "    .dataframe tbody tr th:only-of-type {\n",
       "        vertical-align: middle;\n",
       "    }\n",
       "\n",
       "    .dataframe tbody tr th {\n",
       "        vertical-align: top;\n",
       "    }\n",
       "\n",
       "    .dataframe thead th {\n",
       "        text-align: right;\n",
       "    }\n",
       "</style>\n",
       "<table border=\"1\" class=\"dataframe\">\n",
       "  <thead>\n",
       "    <tr style=\"text-align: right;\">\n",
       "      <th></th>\n",
       "      <th>place_name</th>\n",
       "      <th>address_name</th>\n",
       "      <th>lat</th>\n",
       "      <th>lon</th>\n",
       "    </tr>\n",
       "  </thead>\n",
       "  <tbody>\n",
       "    <tr>\n",
       "      <td>0</td>\n",
       "      <td>치악산국립공원사무소</td>\n",
       "      <td>강원 원주시 소초면 학곡리 900-1</td>\n",
       "      <td>37.4140873530471</td>\n",
       "      <td>128.050276029765</td>\n",
       "    </tr>\n",
       "    <tr>\n",
       "      <td>1</td>\n",
       "      <td>치악산국립공원사무소 금대분소</td>\n",
       "      <td>강원 원주시 판부면 금대리 1333-4</td>\n",
       "      <td>37.29332197642123</td>\n",
       "      <td>128.01816808079212</td>\n",
       "    </tr>\n",
       "    <tr>\n",
       "      <td>2</td>\n",
       "      <td>치악산국립공원사무소 구룡소형주차장 전기차충전소</td>\n",
       "      <td>강원 원주시 소초면 학곡리 890</td>\n",
       "      <td>37.4152896185385</td>\n",
       "      <td>128.050428254634</td>\n",
       "    </tr>\n",
       "    <tr>\n",
       "      <td>3</td>\n",
       "      <td>치악산국립공원사무소 구룡대형주차장 전기차충전소</td>\n",
       "      <td>강원 원주시 소초면 학곡리 866-1</td>\n",
       "      <td>37.41849565971726</td>\n",
       "      <td>128.05161406516171</td>\n",
       "    </tr>\n",
       "    <tr>\n",
       "      <td>4</td>\n",
       "      <td>치악산국립공원사무소 금대분소 전기차충전소</td>\n",
       "      <td>강원 원주시 판부면 금대리 1343</td>\n",
       "      <td>37.2936168754304</td>\n",
       "      <td>128.018230698584</td>\n",
       "    </tr>\n",
       "  </tbody>\n",
       "</table>\n",
       "</div>"
      ],
      "text/plain": [
       "                  place_name           address_name                lat  \\\n",
       "0                 치악산국립공원사무소   강원 원주시 소초면 학곡리 900-1   37.4140873530471   \n",
       "1            치악산국립공원사무소 금대분소  강원 원주시 판부면 금대리 1333-4  37.29332197642123   \n",
       "2  치악산국립공원사무소 구룡소형주차장 전기차충전소     강원 원주시 소초면 학곡리 890   37.4152896185385   \n",
       "3  치악산국립공원사무소 구룡대형주차장 전기차충전소   강원 원주시 소초면 학곡리 866-1  37.41849565971726   \n",
       "4     치악산국립공원사무소 금대분소 전기차충전소    강원 원주시 판부면 금대리 1343   37.2936168754304   \n",
       "\n",
       "                  lon  \n",
       "0    128.050276029765  \n",
       "1  128.01816808079212  \n",
       "2    128.050428254634  \n",
       "3  128.05161406516171  \n",
       "4    128.018230698584  "
      ]
     },
     "execution_count": 9,
     "metadata": {},
     "output_type": "execute_result"
    }
   ],
   "source": [
    "# 치악산국립공원사무소 위경도 검색\n",
    "df2 = keyword_to_latlon('치악산국립공원사무소')\n",
    "df2"
   ]
  },
  {
   "cell_type": "code",
   "execution_count": 10,
   "metadata": {},
   "outputs": [
    {
     "data": {
      "text/html": [
       "<div style=\"width:100%;\"><div style=\"position:relative;width:100%;height:0;padding-bottom:60%;\"><iframe src=\"data:text/html;charset=utf-8;base64,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\" style=\"position:absolute;width:100%;height:100%;left:0;top:0;border:none !important;\" allowfullscreen webkitallowfullscreen mozallowfullscreen></iframe></div></div>"
      ],
      "text/plain": [
       "<folium.folium.Map at 0x22bdf74aa58>"
      ]
     },
     "execution_count": 10,
     "metadata": {},
     "output_type": "execute_result"
    }
   ],
   "source": [
    "# 치악산국립공원사무소 마커(색상, 아이콘 설정) 추가\n",
    "for lat,lon,place_name,address_name in zip(df2['lat'],df2['lon'],df2['place_name'],df2['address_name']):\n",
    "    popup = folium.Popup(\"<b>\"+place_name+\"</b><br>\"+address_name, max_width=300)\n",
    "    icon = folium.Icon(color='red', icon = 'cloud')\n",
    "    folium.Marker(location=[lat,lon],\n",
    "                  popup = popup,\n",
    "                  icon= icon,\n",
    "                  tooltip=\"이곳이 궁금한가요?\").add_to(m)\n",
    "m"
   ]
  },
  {
   "cell_type": "code",
   "execution_count": 11,
   "metadata": {},
   "outputs": [
    {
     "data": {
      "text/html": [
       "<div>\n",
       "<style scoped>\n",
       "    .dataframe tbody tr th:only-of-type {\n",
       "        vertical-align: middle;\n",
       "    }\n",
       "\n",
       "    .dataframe tbody tr th {\n",
       "        vertical-align: top;\n",
       "    }\n",
       "\n",
       "    .dataframe thead th {\n",
       "        text-align: right;\n",
       "    }\n",
       "</style>\n",
       "<table border=\"1\" class=\"dataframe\">\n",
       "  <thead>\n",
       "    <tr style=\"text-align: right;\">\n",
       "      <th></th>\n",
       "      <th>place_name</th>\n",
       "      <th>address_name</th>\n",
       "      <th>lat</th>\n",
       "      <th>lon</th>\n",
       "    </tr>\n",
       "  </thead>\n",
       "  <tbody>\n",
       "    <tr>\n",
       "      <td>0</td>\n",
       "      <td>국립공원공단</td>\n",
       "      <td>강원 원주시 반곡동 2049-4</td>\n",
       "      <td>37.3238905538685</td>\n",
       "      <td>127.97675554397</td>\n",
       "    </tr>\n",
       "  </tbody>\n",
       "</table>\n",
       "</div>"
      ],
      "text/plain": [
       "  place_name       address_name               lat              lon\n",
       "0     국립공원공단  강원 원주시 반곡동 2049-4  37.3238905538685  127.97675554397"
      ]
     },
     "execution_count": 11,
     "metadata": {},
     "output_type": "execute_result"
    }
   ],
   "source": [
    "# 국립공원공단 위경도 검색\n",
    "df3 = keyword_to_latlon('국립공원공단')\n",
    "df3 = df3.loc[df3['place_name'] == '국립공원공단']\n",
    "df3"
   ]
  },
  {
   "cell_type": "code",
   "execution_count": null,
   "metadata": {},
   "outputs": [],
   "source": [
    "# 국립공원공단 마커(사용자아이콘) 추가\n",
    "locationBandari=[df3.lat, df3.lon]\n",
    "popupBandari = folium.Popup(\"<b>\"+df3.iloc[0]['place_name']+\"</b><br>\"+df3.iloc[0]['address_name'], max_width=300)\n",
    "iconBandari = folium.features.CustomIcon('bandari.png', icon_size=(100,100))\n",
    "folium.Marker(location=locationBandari, popup=popupBandari, icon=iconBandari, tooltip=\"이곳이 궁금한가요?\").add_to(m)\n",
    "m"
   ]
  },
  {
   "cell_type": "code",
   "execution_count": null,
   "metadata": {},
   "outputs": [],
   "source": [
    "# folium marker 저장\n",
    "m.save('D:/GEODATA/folium_marker.html')"
   ]
  },
  {
   "cell_type": "code",
   "execution_count": null,
   "metadata": {},
   "outputs": [],
   "source": []
  }
 ],
 "metadata": {
  "kernelspec": {
   "display_name": "Python 3",
   "language": "python",
   "name": "python3"
  },
  "language_info": {
   "codemirror_mode": {
    "name": "ipython",
    "version": 3
   },
   "file_extension": ".py",
   "mimetype": "text/x-python",
   "name": "python",
   "nbconvert_exporter": "python",
   "pygments_lexer": "ipython3",
   "version": "3.5.4"
  }
 },
 "nbformat": 4,
 "nbformat_minor": 2
}
